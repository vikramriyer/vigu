{
 "cells": [
  {
   "cell_type": "code",
   "execution_count": 91,
   "metadata": {
    "collapsed": true
   },
   "outputs": [],
   "source": [
    "# imports\n",
    "import pandas as pd\n",
    "import numpy as np\n",
    "from sklearn.preprocessing import OneHotEncoder, LabelEncoder, StandardScaler\n",
    "from sklearn.decomposition import PCA\n",
    "%matplotlib inline"
   ]
  },
  {
   "cell_type": "code",
   "execution_count": 37,
   "metadata": {
    "collapsed": true
   },
   "outputs": [],
   "source": [
    "# ingest the data file used for training\n",
    "train = pd.read_csv(\"./dataset/train.csv\", low_memory=False)"
   ]
  },
  {
   "cell_type": "code",
   "execution_count": 3,
   "metadata": {},
   "outputs": [
    {
     "name": "stdout",
     "output_type": "stream",
     "text": [
      "total 1M\n",
      "drwxr-xr-x 48 raavan root   1M Nov  1 21:08 ..\n",
      "drwxr-xr-x  2 raavan raavan 1M Nov  1 21:09 .ipynb_checkpoints\n",
      "drwxrwxr-x  2 raavan raavan 1M Nov  2 10:34 dataset\n",
      "-rw-rw-r--  1 raavan raavan 1M Nov  2 10:39 vigu.ipynb\n",
      "drwxrwxr-x  5 raavan raavan 1M Nov  2 10:39 .\n",
      "drwxrwxr-x  8 raavan raavan 1M Nov  2 10:40 .git\n"
     ]
    }
   ],
   "source": [
    "%%bash\n",
    "# Directory structure\n",
    "ls -ltra --block-size=M"
   ]
  },
  {
   "cell_type": "code",
   "execution_count": 4,
   "metadata": {},
   "outputs": [
    {
     "data": {
      "text/plain": [
       "377"
      ]
     },
     "execution_count": 4,
     "metadata": {},
     "output_type": "execute_result"
    }
   ],
   "source": [
    "len(train.columns)"
   ]
  },
  {
   "cell_type": "code",
   "execution_count": 5,
   "metadata": {},
   "outputs": [
    {
     "data": {
      "text/plain": [
       "300000"
      ]
     },
     "execution_count": 5,
     "metadata": {},
     "output_type": "execute_result"
    }
   ],
   "source": [
    "len(train)"
   ]
  },
  {
   "cell_type": "code",
   "execution_count": 6,
   "metadata": {},
   "outputs": [
    {
     "data": {
      "text/plain": [
       "Index(['UCIC_ID', 'NO_OF_Accs', 'HNW_CATEGORY', 'vintage', 'EMAIL_UNSUBSCRIBE',\n",
       "       'OCCUP_ALL_NEW', 'city', 'dependents', 'zip', 'FINAL_WORTH_prev1',\n",
       "       ...\n",
       "       'Query_Resolved_PrevQ1', 'Complaint_Logged_PrevQ1',\n",
       "       'Complaint_Resolved_PrevQ1', 'NO_OF_CHEQUE_BOUNCE_V1',\n",
       "       'Percent_Change_in_Credits', 'Percent_Change_in_FT_Bank',\n",
       "       'Percent_Change_in_FT_outside', 'Percent_Change_in_Self_Txn',\n",
       "       'Percent_Change_in_Big_Expenses', 'Responders'],\n",
       "      dtype='object', length=377)"
      ]
     },
     "execution_count": 6,
     "metadata": {},
     "output_type": "execute_result"
    }
   ],
   "source": [
    "train.columns"
   ]
  },
  {
   "cell_type": "code",
   "execution_count": 9,
   "metadata": {},
   "outputs": [
    {
     "data": {
      "text/html": [
       "<div>\n",
       "<style>\n",
       "    .dataframe thead tr:only-child th {\n",
       "        text-align: right;\n",
       "    }\n",
       "\n",
       "    .dataframe thead th {\n",
       "        text-align: left;\n",
       "    }\n",
       "\n",
       "    .dataframe tbody tr th {\n",
       "        vertical-align: top;\n",
       "    }\n",
       "</style>\n",
       "<table border=\"1\" class=\"dataframe\">\n",
       "  <thead>\n",
       "    <tr style=\"text-align: right;\">\n",
       "      <th></th>\n",
       "      <th>UCIC_ID</th>\n",
       "      <th>NO_OF_Accs</th>\n",
       "      <th>HNW_CATEGORY</th>\n",
       "      <th>vintage</th>\n",
       "      <th>EMAIL_UNSUBSCRIBE</th>\n",
       "      <th>OCCUP_ALL_NEW</th>\n",
       "      <th>city</th>\n",
       "      <th>dependents</th>\n",
       "      <th>zip</th>\n",
       "      <th>FINAL_WORTH_prev1</th>\n",
       "      <th>...</th>\n",
       "      <th>Query_Resolved_PrevQ1</th>\n",
       "      <th>Complaint_Logged_PrevQ1</th>\n",
       "      <th>Complaint_Resolved_PrevQ1</th>\n",
       "      <th>NO_OF_CHEQUE_BOUNCE_V1</th>\n",
       "      <th>Percent_Change_in_Credits</th>\n",
       "      <th>Percent_Change_in_FT_Bank</th>\n",
       "      <th>Percent_Change_in_FT_outside</th>\n",
       "      <th>Percent_Change_in_Self_Txn</th>\n",
       "      <th>Percent_Change_in_Big_Expenses</th>\n",
       "      <th>Responders</th>\n",
       "    </tr>\n",
       "  </thead>\n",
       "  <tbody>\n",
       "    <tr>\n",
       "      <th>0</th>\n",
       "      <td>170114</td>\n",
       "      <td>1</td>\n",
       "      <td>2_Preferred</td>\n",
       "      <td>1947</td>\n",
       "      <td>NaN</td>\n",
       "      <td>HOUSEWIFE</td>\n",
       "      <td>BANGALORE</td>\n",
       "      <td>0.0</td>\n",
       "      <td>562114.0</td>\n",
       "      <td>HIGH</td>\n",
       "      <td>...</td>\n",
       "      <td>NaN</td>\n",
       "      <td>NaN</td>\n",
       "      <td>NaN</td>\n",
       "      <td>NaN</td>\n",
       "      <td>-94.757314</td>\n",
       "      <td>NaN</td>\n",
       "      <td>0.0</td>\n",
       "      <td>NaN</td>\n",
       "      <td>NaN</td>\n",
       "      <td>0</td>\n",
       "    </tr>\n",
       "    <tr>\n",
       "      <th>1</th>\n",
       "      <td>488013</td>\n",
       "      <td>1</td>\n",
       "      <td>1_Imperia</td>\n",
       "      <td>3082</td>\n",
       "      <td>NaN</td>\n",
       "      <td>SALARIED</td>\n",
       "      <td>MUMBAI</td>\n",
       "      <td>0.0</td>\n",
       "      <td>400015.0</td>\n",
       "      <td>HIGH</td>\n",
       "      <td>...</td>\n",
       "      <td>NaN</td>\n",
       "      <td>NaN</td>\n",
       "      <td>NaN</td>\n",
       "      <td>NaN</td>\n",
       "      <td>160.024566</td>\n",
       "      <td>NaN</td>\n",
       "      <td>0.0</td>\n",
       "      <td>NaN</td>\n",
       "      <td>0.0</td>\n",
       "      <td>0</td>\n",
       "    </tr>\n",
       "    <tr>\n",
       "      <th>2</th>\n",
       "      <td>435239</td>\n",
       "      <td>1</td>\n",
       "      <td>2_Preferred</td>\n",
       "      <td>572</td>\n",
       "      <td>NaN</td>\n",
       "      <td>SELF_EMPLOYED</td>\n",
       "      <td>HILI</td>\n",
       "      <td>NaN</td>\n",
       "      <td>733126.0</td>\n",
       "      <td>HIGH</td>\n",
       "      <td>...</td>\n",
       "      <td>NaN</td>\n",
       "      <td>NaN</td>\n",
       "      <td>NaN</td>\n",
       "      <td>NaN</td>\n",
       "      <td>273.771918</td>\n",
       "      <td>NaN</td>\n",
       "      <td>10.0</td>\n",
       "      <td>NaN</td>\n",
       "      <td>NaN</td>\n",
       "      <td>1</td>\n",
       "    </tr>\n",
       "    <tr>\n",
       "      <th>3</th>\n",
       "      <td>331646</td>\n",
       "      <td>1</td>\n",
       "      <td>3_Classic</td>\n",
       "      <td>773</td>\n",
       "      <td>NaN</td>\n",
       "      <td>SELF_EMPLOYED</td>\n",
       "      <td>NAMAKKAL</td>\n",
       "      <td>0.0</td>\n",
       "      <td>637410.0</td>\n",
       "      <td>HIGH</td>\n",
       "      <td>...</td>\n",
       "      <td>NaN</td>\n",
       "      <td>NaN</td>\n",
       "      <td>NaN</td>\n",
       "      <td>NaN</td>\n",
       "      <td>NaN</td>\n",
       "      <td>NaN</td>\n",
       "      <td>NaN</td>\n",
       "      <td>NaN</td>\n",
       "      <td>NaN</td>\n",
       "      <td>0</td>\n",
       "    </tr>\n",
       "    <tr>\n",
       "      <th>4</th>\n",
       "      <td>226900</td>\n",
       "      <td>1</td>\n",
       "      <td>2_Preferred</td>\n",
       "      <td>1627</td>\n",
       "      <td>NaN</td>\n",
       "      <td>HOUSEWIFE</td>\n",
       "      <td>MUMBAI</td>\n",
       "      <td>0.0</td>\n",
       "      <td>400053.0</td>\n",
       "      <td>HIGH</td>\n",
       "      <td>...</td>\n",
       "      <td>NaN</td>\n",
       "      <td>NaN</td>\n",
       "      <td>NaN</td>\n",
       "      <td>NaN</td>\n",
       "      <td>399.997265</td>\n",
       "      <td>NaN</td>\n",
       "      <td>7.0</td>\n",
       "      <td>NaN</td>\n",
       "      <td>NaN</td>\n",
       "      <td>0</td>\n",
       "    </tr>\n",
       "  </tbody>\n",
       "</table>\n",
       "<p>5 rows × 377 columns</p>\n",
       "</div>"
      ],
      "text/plain": [
       "   UCIC_ID  NO_OF_Accs HNW_CATEGORY  vintage EMAIL_UNSUBSCRIBE  OCCUP_ALL_NEW  \\\n",
       "0   170114           1  2_Preferred     1947               NaN      HOUSEWIFE   \n",
       "1   488013           1    1_Imperia     3082               NaN       SALARIED   \n",
       "2   435239           1  2_Preferred      572               NaN  SELF_EMPLOYED   \n",
       "3   331646           1    3_Classic      773               NaN  SELF_EMPLOYED   \n",
       "4   226900           1  2_Preferred     1627               NaN      HOUSEWIFE   \n",
       "\n",
       "        city  dependents       zip FINAL_WORTH_prev1     ...      \\\n",
       "0  BANGALORE         0.0  562114.0              HIGH     ...       \n",
       "1     MUMBAI         0.0  400015.0              HIGH     ...       \n",
       "2       HILI         NaN  733126.0              HIGH     ...       \n",
       "3   NAMAKKAL         0.0  637410.0              HIGH     ...       \n",
       "4     MUMBAI         0.0  400053.0              HIGH     ...       \n",
       "\n",
       "  Query_Resolved_PrevQ1  Complaint_Logged_PrevQ1  Complaint_Resolved_PrevQ1  \\\n",
       "0                   NaN                      NaN                        NaN   \n",
       "1                   NaN                      NaN                        NaN   \n",
       "2                   NaN                      NaN                        NaN   \n",
       "3                   NaN                      NaN                        NaN   \n",
       "4                   NaN                      NaN                        NaN   \n",
       "\n",
       "   NO_OF_CHEQUE_BOUNCE_V1  Percent_Change_in_Credits  \\\n",
       "0                     NaN                 -94.757314   \n",
       "1                     NaN                 160.024566   \n",
       "2                     NaN                 273.771918   \n",
       "3                     NaN                        NaN   \n",
       "4                     NaN                 399.997265   \n",
       "\n",
       "   Percent_Change_in_FT_Bank  Percent_Change_in_FT_outside  \\\n",
       "0                        NaN                           0.0   \n",
       "1                        NaN                           0.0   \n",
       "2                        NaN                          10.0   \n",
       "3                        NaN                           NaN   \n",
       "4                        NaN                           7.0   \n",
       "\n",
       "   Percent_Change_in_Self_Txn  Percent_Change_in_Big_Expenses  Responders  \n",
       "0                         NaN                             NaN           0  \n",
       "1                         NaN                             0.0           0  \n",
       "2                         NaN                             NaN           1  \n",
       "3                         NaN                             NaN           0  \n",
       "4                         NaN                             NaN           0  \n",
       "\n",
       "[5 rows x 377 columns]"
      ]
     },
     "execution_count": 9,
     "metadata": {},
     "output_type": "execute_result"
    }
   ],
   "source": [
    "train.head()"
   ]
  },
  {
   "cell_type": "code",
   "execution_count": 38,
   "metadata": {},
   "outputs": [],
   "source": [
    "nulls = train.isnull().sum().sort_values(ascending=False).head(147)"
   ]
  },
  {
   "cell_type": "code",
   "execution_count": 39,
   "metadata": {},
   "outputs": [],
   "source": [
    "remove_features = nulls.index.tolist()"
   ]
  },
  {
   "cell_type": "code",
   "execution_count": 41,
   "metadata": {
    "collapsed": true
   },
   "outputs": [],
   "source": [
    "train.drop(remove_features, axis=1, inplace=True)"
   ]
  },
  {
   "cell_type": "code",
   "execution_count": null,
   "metadata": {
    "collapsed": true
   },
   "outputs": [],
   "source": [
    "train.drop('city', inplace=True, axis=1)"
   ]
  },
  {
   "cell_type": "code",
   "execution_count": 42,
   "metadata": {},
   "outputs": [
    {
     "data": {
      "text/html": [
       "<div>\n",
       "<style>\n",
       "    .dataframe thead tr:only-child th {\n",
       "        text-align: right;\n",
       "    }\n",
       "\n",
       "    .dataframe thead th {\n",
       "        text-align: left;\n",
       "    }\n",
       "\n",
       "    .dataframe tbody tr th {\n",
       "        vertical-align: top;\n",
       "    }\n",
       "</style>\n",
       "<table border=\"1\" class=\"dataframe\">\n",
       "  <thead>\n",
       "    <tr style=\"text-align: right;\">\n",
       "      <th></th>\n",
       "      <th>UCIC_ID</th>\n",
       "      <th>NO_OF_Accs</th>\n",
       "      <th>HNW_CATEGORY</th>\n",
       "      <th>vintage</th>\n",
       "      <th>OCCUP_ALL_NEW</th>\n",
       "      <th>city</th>\n",
       "      <th>dependents</th>\n",
       "      <th>zip</th>\n",
       "      <th>FINAL_WORTH_prev1</th>\n",
       "      <th>ENGAGEMENT_TAG_prev1</th>\n",
       "      <th>...</th>\n",
       "      <th>I_CNR_PrevQ2</th>\n",
       "      <th>I_NRV_PrevQ1</th>\n",
       "      <th>I_NRV_PrevQ2</th>\n",
       "      <th>CR_AMB_Drop_Build_1</th>\n",
       "      <th>CR_AMB_Drop_Build_2</th>\n",
       "      <th>CR_AMB_Drop_Build_3</th>\n",
       "      <th>CR_AMB_Drop_Build_4</th>\n",
       "      <th>CR_AMB_Drop_Build_5</th>\n",
       "      <th>Percent_Change_in_Credits</th>\n",
       "      <th>Responders</th>\n",
       "    </tr>\n",
       "  </thead>\n",
       "  <tbody>\n",
       "    <tr>\n",
       "      <th>0</th>\n",
       "      <td>170114</td>\n",
       "      <td>1</td>\n",
       "      <td>2_Preferred</td>\n",
       "      <td>1947</td>\n",
       "      <td>HOUSEWIFE</td>\n",
       "      <td>BANGALORE</td>\n",
       "      <td>0.0</td>\n",
       "      <td>562114.0</td>\n",
       "      <td>HIGH</td>\n",
       "      <td>LOW</td>\n",
       "      <td>...</td>\n",
       "      <td>2154.266667</td>\n",
       "      <td>9.007502e+05</td>\n",
       "      <td>1.034232e+06</td>\n",
       "      <td>-0.211875</td>\n",
       "      <td>-0.069396</td>\n",
       "      <td>-0.022604</td>\n",
       "      <td>-0.151781</td>\n",
       "      <td>0.454159</td>\n",
       "      <td>-94.757314</td>\n",
       "      <td>0</td>\n",
       "    </tr>\n",
       "    <tr>\n",
       "      <th>1</th>\n",
       "      <td>488013</td>\n",
       "      <td>1</td>\n",
       "      <td>1_Imperia</td>\n",
       "      <td>3082</td>\n",
       "      <td>SALARIED</td>\n",
       "      <td>MUMBAI</td>\n",
       "      <td>0.0</td>\n",
       "      <td>400015.0</td>\n",
       "      <td>HIGH</td>\n",
       "      <td>MEDIUM</td>\n",
       "      <td>...</td>\n",
       "      <td>14239.060000</td>\n",
       "      <td>5.272982e+07</td>\n",
       "      <td>5.665658e+07</td>\n",
       "      <td>0.241488</td>\n",
       "      <td>0.167411</td>\n",
       "      <td>-0.071992</td>\n",
       "      <td>-0.013259</td>\n",
       "      <td>-0.302890</td>\n",
       "      <td>160.024566</td>\n",
       "      <td>0</td>\n",
       "    </tr>\n",
       "    <tr>\n",
       "      <th>2</th>\n",
       "      <td>435239</td>\n",
       "      <td>1</td>\n",
       "      <td>2_Preferred</td>\n",
       "      <td>572</td>\n",
       "      <td>SELF_EMPLOYED</td>\n",
       "      <td>HILI</td>\n",
       "      <td>NaN</td>\n",
       "      <td>733126.0</td>\n",
       "      <td>HIGH</td>\n",
       "      <td>LOW</td>\n",
       "      <td>...</td>\n",
       "      <td>13.570000</td>\n",
       "      <td>1.801508e+05</td>\n",
       "      <td>2.654720e+04</td>\n",
       "      <td>0.459032</td>\n",
       "      <td>46.068404</td>\n",
       "      <td>0.048818</td>\n",
       "      <td>-0.906061</td>\n",
       "      <td>0.663840</td>\n",
       "      <td>273.771918</td>\n",
       "      <td>1</td>\n",
       "    </tr>\n",
       "    <tr>\n",
       "      <th>3</th>\n",
       "      <td>331646</td>\n",
       "      <td>1</td>\n",
       "      <td>3_Classic</td>\n",
       "      <td>773</td>\n",
       "      <td>SELF_EMPLOYED</td>\n",
       "      <td>NAMAKKAL</td>\n",
       "      <td>0.0</td>\n",
       "      <td>637410.0</td>\n",
       "      <td>HIGH</td>\n",
       "      <td>LOW</td>\n",
       "      <td>...</td>\n",
       "      <td>2028.690000</td>\n",
       "      <td>8.561209e+05</td>\n",
       "      <td>8.506973e+05</td>\n",
       "      <td>0.000000</td>\n",
       "      <td>0.000000</td>\n",
       "      <td>0.000000</td>\n",
       "      <td>0.000000</td>\n",
       "      <td>0.019374</td>\n",
       "      <td>NaN</td>\n",
       "      <td>0</td>\n",
       "    </tr>\n",
       "    <tr>\n",
       "      <th>4</th>\n",
       "      <td>226900</td>\n",
       "      <td>1</td>\n",
       "      <td>2_Preferred</td>\n",
       "      <td>1627</td>\n",
       "      <td>HOUSEWIFE</td>\n",
       "      <td>MUMBAI</td>\n",
       "      <td>0.0</td>\n",
       "      <td>400053.0</td>\n",
       "      <td>HIGH</td>\n",
       "      <td>LOW</td>\n",
       "      <td>...</td>\n",
       "      <td>74.343333</td>\n",
       "      <td>1.726398e+05</td>\n",
       "      <td>5.572559e+04</td>\n",
       "      <td>8.270783</td>\n",
       "      <td>-0.272225</td>\n",
       "      <td>-0.150621</td>\n",
       "      <td>1.391400</td>\n",
       "      <td>-0.538117</td>\n",
       "      <td>399.997265</td>\n",
       "      <td>0</td>\n",
       "    </tr>\n",
       "  </tbody>\n",
       "</table>\n",
       "<p>5 rows × 230 columns</p>\n",
       "</div>"
      ],
      "text/plain": [
       "   UCIC_ID  NO_OF_Accs HNW_CATEGORY  vintage  OCCUP_ALL_NEW       city  \\\n",
       "0   170114           1  2_Preferred     1947      HOUSEWIFE  BANGALORE   \n",
       "1   488013           1    1_Imperia     3082       SALARIED     MUMBAI   \n",
       "2   435239           1  2_Preferred      572  SELF_EMPLOYED       HILI   \n",
       "3   331646           1    3_Classic      773  SELF_EMPLOYED   NAMAKKAL   \n",
       "4   226900           1  2_Preferred     1627      HOUSEWIFE     MUMBAI   \n",
       "\n",
       "   dependents       zip FINAL_WORTH_prev1 ENGAGEMENT_TAG_prev1     ...      \\\n",
       "0         0.0  562114.0              HIGH                  LOW     ...       \n",
       "1         0.0  400015.0              HIGH               MEDIUM     ...       \n",
       "2         NaN  733126.0              HIGH                  LOW     ...       \n",
       "3         0.0  637410.0              HIGH                  LOW     ...       \n",
       "4         0.0  400053.0              HIGH                  LOW     ...       \n",
       "\n",
       "   I_CNR_PrevQ2  I_NRV_PrevQ1  I_NRV_PrevQ2  CR_AMB_Drop_Build_1  \\\n",
       "0   2154.266667  9.007502e+05  1.034232e+06            -0.211875   \n",
       "1  14239.060000  5.272982e+07  5.665658e+07             0.241488   \n",
       "2     13.570000  1.801508e+05  2.654720e+04             0.459032   \n",
       "3   2028.690000  8.561209e+05  8.506973e+05             0.000000   \n",
       "4     74.343333  1.726398e+05  5.572559e+04             8.270783   \n",
       "\n",
       "   CR_AMB_Drop_Build_2  CR_AMB_Drop_Build_3  CR_AMB_Drop_Build_4  \\\n",
       "0            -0.069396            -0.022604            -0.151781   \n",
       "1             0.167411            -0.071992            -0.013259   \n",
       "2            46.068404             0.048818            -0.906061   \n",
       "3             0.000000             0.000000             0.000000   \n",
       "4            -0.272225            -0.150621             1.391400   \n",
       "\n",
       "   CR_AMB_Drop_Build_5  Percent_Change_in_Credits  Responders  \n",
       "0             0.454159                 -94.757314           0  \n",
       "1            -0.302890                 160.024566           0  \n",
       "2             0.663840                 273.771918           1  \n",
       "3             0.019374                        NaN           0  \n",
       "4            -0.538117                 399.997265           0  \n",
       "\n",
       "[5 rows x 230 columns]"
      ]
     },
     "execution_count": 42,
     "metadata": {},
     "output_type": "execute_result"
    }
   ],
   "source": [
    "train.head()"
   ]
  },
  {
   "cell_type": "raw",
   "metadata": {},
   "source": [
    "After removal of the features having more than 50% null values, we have 230 features left.\n",
    "Out of which 218 are numerical features and rest are string."
   ]
  },
  {
   "cell_type": "code",
   "execution_count": 49,
   "metadata": {},
   "outputs": [
    {
     "data": {
      "text/plain": [
       "Index(['HNW_CATEGORY', 'OCCUP_ALL_NEW', 'city', 'FINAL_WORTH_prev1',\n",
       "       'ENGAGEMENT_TAG_prev1', 'EFT_SELF_TRANSFER_PrevQ1',\n",
       "       'Billpay_Active_PrevQ1_N', 'Billpay_Reg_ason_Prev1_N',\n",
       "       'Charges_cnt_PrevQ1_N', 'FRX_PrevQ1_N', 'RBI_Class_Audit',\n",
       "       'gender_bin'],\n",
       "      dtype='object')"
      ]
     },
     "execution_count": 49,
     "metadata": {},
     "output_type": "execute_result"
    }
   ],
   "source": [
    "train.select_dtypes(exclude=[np.number]).columns"
   ]
  },
  {
   "cell_type": "raw",
   "metadata": {},
   "source": [
    "one hot encoding can be applied on all the features except city"
   ]
  },
  {
   "cell_type": "code",
   "execution_count": 50,
   "metadata": {},
   "outputs": [
    {
     "data": {
      "text/plain": [
       "2_Preferred    154549\n",
       "3_Classic      107078\n",
       "1_Imperia       38373\n",
       "Name: HNW_CATEGORY, dtype: int64"
      ]
     },
     "execution_count": 50,
     "metadata": {},
     "output_type": "execute_result"
    }
   ],
   "source": [
    "train.HNW_CATEGORY.value_counts()"
   ]
  },
  {
   "cell_type": "raw",
   "metadata": {},
   "source": [
    "for feature in train.select_dtypes(exclude=[np.number]).columns:\n",
    "    print(\"Feature name => {}\\n\".format(feature))\n",
    "    print(train[feature].value_counts())\n",
    "    print(\"\\n------------------------------------------\")"
   ]
  },
  {
   "cell_type": "code",
   "execution_count": 79,
   "metadata": {
    "collapsed": true
   },
   "outputs": [],
   "source": [
    "ohe = OneHotEncoder(sparse=False)\n",
    "le = LabelEncoder()"
   ]
  },
  {
   "cell_type": "code",
   "execution_count": 77,
   "metadata": {},
   "outputs": [
    {
     "name": "stdout",
     "output_type": "stream",
     "text": [
      "HNW_CATEGORY\n",
      "OCCUP_ALL_NEW\n",
      "FINAL_WORTH_prev1\n",
      "ENGAGEMENT_TAG_prev1\n",
      "EFT_SELF_TRANSFER_PrevQ1\n",
      "Billpay_Active_PrevQ1_N\n",
      "Billpay_Reg_ason_Prev1_N\n",
      "Charges_cnt_PrevQ1_N\n",
      "FRX_PrevQ1_N\n",
      "RBI_Class_Audit\n",
      "gender_bin\n"
     ]
    }
   ],
   "source": [
    "for feature in train.columns.values:\n",
    "    \n",
    "    if train[feature].dtypes == 'object':\n",
    "        print(feature)\n",
    "        train[feature] = le.fit_transform(train[feature].fillna('0'))"
   ]
  },
  {
   "cell_type": "code",
   "execution_count": 87,
   "metadata": {},
   "outputs": [
    {
     "name": "stdout",
     "output_type": "stream",
     "text": [
      "OCCUP_ALL_NEW\n",
      "FINAL_WORTH_prev1\n",
      "ENGAGEMENT_TAG_prev1\n",
      "EFT_SELF_TRANSFER_PrevQ1\n",
      "Billpay_Active_PrevQ1_N\n",
      "Billpay_Reg_ason_Prev1_N\n",
      "Charges_cnt_PrevQ1_N\n",
      "FRX_PrevQ1_N\n",
      "RBI_Class_Audit\n",
      "gender_bin\n"
     ]
    }
   ],
   "source": [
    "for feature in train.columns.values:\n",
    "    \n",
    "    if feature in ['OCCUP_ALL_NEW','FINAL_WORTH_prev1','ENGAGEMENT_TAG_prev1',\\\n",
    "                   'EFT_SELF_TRANSFER_PrevQ1','Billpay_Active_PrevQ1_N',\\\n",
    "                   'Billpay_Reg_ason_Prev1_N','Charges_cnt_PrevQ1_N','FRX_PrevQ1_N',\\\n",
    "                   'RBI_Class_Audit','gender_bin']:\n",
    "        print(feature)\n",
    "        train[feature] = ohe.fit_transform(train[feature].values.reshape(-1,1))"
   ]
  },
  {
   "cell_type": "code",
   "execution_count": 93,
   "metadata": {},
   "outputs": [
    {
     "data": {
      "text/plain": [
       "Recency_of_IB_TXN            135988\n",
       "custinit_DR_cnt_prev4        126456\n",
       "custinit_DR_amt_prev4        126456\n",
       "custinit_DR_cnt_prev6        122657\n",
       "custinit_DR_amt_prev6        122657\n",
       "custinit_DR_cnt_prev5        119421\n",
       "custinit_DR_amt_prev5        119421\n",
       "custinit_DR_amt_prev3        116621\n",
       "custinit_DR_cnt_prev3        116621\n",
       "custinit_DR_cnt_prev1        115852\n",
       "custinit_DR_amt_prev1        115852\n",
       "custinit_DR_amt_prev2        114828\n",
       "custinit_DR_cnt_prev2        114828\n",
       "Percent_Change_in_Credits     96415\n",
       "Recency_of_CR_TXN             33194\n",
       "dependents                    26382\n",
       "Recency_of_DR_TXN             23252\n",
       "Recency_of_BRANCH_TXN         18368\n",
       "zip                            1050\n",
       "Recency_of_Activity             477\n",
       "BRANCH_C_prev3                    0\n",
       "MB_D_prev3                        0\n",
       "MB_C_prev3                        0\n",
       "IB_D_prev3                        0\n",
       "COUNT_MB_D_prev2                  0\n",
       "COUNT_POS_C_prev2                 0\n",
       "IB_C_prev3                        0\n",
       "BRANCH_D_prev3                    0\n",
       "D_prev3                           0\n",
       "ATM_D_prev3                       0\n",
       "                              ...  \n",
       "count_C_prev4                     0\n",
       "POS_D_prev4                       0\n",
       "IB_D_prev5                        0\n",
       "MB_D_prev5                        0\n",
       "IB_C_prev6                        0\n",
       "POS_C_prev5                       0\n",
       "BRANCH_D_prev6                    0\n",
       "BRANCH_C_prev6                    0\n",
       "ATM_D_prev6                       0\n",
       "ATM_C_prev6                       0\n",
       "D_prev6                           0\n",
       "C_prev6                           0\n",
       "CR_AMB_Prev5                      0\n",
       "EOP_prev5                         0\n",
       "BAL_prev5                         0\n",
       "CNR_prev5                         0\n",
       "COUNT_POS_D_prev5                 0\n",
       "COUNT_POS_C_prev5                 0\n",
       "COUNT_MB_D_prev5                  0\n",
       "COUNT_MB_C_prev5                  0\n",
       "COUNT_IB_D_prev5                  0\n",
       "COUNT_IB_C_prev5                  0\n",
       "COUNT_BRANCH_D_prev5              0\n",
       "COUNT_BRANCH_C_prev5              0\n",
       "COUNT_ATM_D_prev5                 0\n",
       "COUNT_ATM_C_prev5                 0\n",
       "count_D_prev5                     0\n",
       "count_C_prev5                     0\n",
       "POS_D_prev5                       0\n",
       "UCIC_ID                           0\n",
       "Length: 229, dtype: int64"
      ]
     },
     "execution_count": 93,
     "metadata": {},
     "output_type": "execute_result"
    }
   ],
   "source": [
    "train.isnull().sum().sort_values(ascending=False)"
   ]
  },
  {
   "cell_type": "code",
   "execution_count": 97,
   "metadata": {},
   "outputs": [
    {
     "data": {
      "text/plain": [
       "229"
      ]
     },
     "execution_count": 97,
     "metadata": {},
     "output_type": "execute_result"
    }
   ],
   "source": [
    "len(train.columns)"
   ]
  },
  {
   "cell_type": "code",
   "execution_count": 92,
   "metadata": {},
   "outputs": [
    {
     "ename": "ValueError",
     "evalue": "Input contains NaN, infinity or a value too large for dtype('float64').",
     "output_type": "error",
     "traceback": [
      "\u001b[0;31m---------------------------------------------------------------------------\u001b[0m",
      "\u001b[0;31mValueError\u001b[0m                                Traceback (most recent call last)",
      "\u001b[0;32m<ipython-input-92-839d794d671f>\u001b[0m in \u001b[0;36m<module>\u001b[0;34m()\u001b[0m\n\u001b[0;32m----> 1\u001b[0;31m \u001b[0mtrain\u001b[0m \u001b[0;34m=\u001b[0m \u001b[0mStandardScaler\u001b[0m\u001b[0;34m(\u001b[0m\u001b[0;34m)\u001b[0m\u001b[0;34m.\u001b[0m\u001b[0mfit_transform\u001b[0m\u001b[0;34m(\u001b[0m\u001b[0mtrain\u001b[0m\u001b[0;34m)\u001b[0m\u001b[0;34m\u001b[0m\u001b[0m\n\u001b[0m",
      "\u001b[0;32m/home/raavan/anaconda3/lib/python3.6/site-packages/sklearn/base.py\u001b[0m in \u001b[0;36mfit_transform\u001b[0;34m(self, X, y, **fit_params)\u001b[0m\n\u001b[1;32m    492\u001b[0m         \u001b[0;32mif\u001b[0m \u001b[0my\u001b[0m \u001b[0;32mis\u001b[0m \u001b[0;32mNone\u001b[0m\u001b[0;34m:\u001b[0m\u001b[0;34m\u001b[0m\u001b[0m\n\u001b[1;32m    493\u001b[0m             \u001b[0;31m# fit method of arity 1 (unsupervised transformation)\u001b[0m\u001b[0;34m\u001b[0m\u001b[0;34m\u001b[0m\u001b[0m\n\u001b[0;32m--> 494\u001b[0;31m             \u001b[0;32mreturn\u001b[0m \u001b[0mself\u001b[0m\u001b[0;34m.\u001b[0m\u001b[0mfit\u001b[0m\u001b[0;34m(\u001b[0m\u001b[0mX\u001b[0m\u001b[0;34m,\u001b[0m \u001b[0;34m**\u001b[0m\u001b[0mfit_params\u001b[0m\u001b[0;34m)\u001b[0m\u001b[0;34m.\u001b[0m\u001b[0mtransform\u001b[0m\u001b[0;34m(\u001b[0m\u001b[0mX\u001b[0m\u001b[0;34m)\u001b[0m\u001b[0;34m\u001b[0m\u001b[0m\n\u001b[0m\u001b[1;32m    495\u001b[0m         \u001b[0;32melse\u001b[0m\u001b[0;34m:\u001b[0m\u001b[0;34m\u001b[0m\u001b[0m\n\u001b[1;32m    496\u001b[0m             \u001b[0;31m# fit method of arity 2 (supervised transformation)\u001b[0m\u001b[0;34m\u001b[0m\u001b[0;34m\u001b[0m\u001b[0m\n",
      "\u001b[0;32m/home/raavan/anaconda3/lib/python3.6/site-packages/sklearn/preprocessing/data.py\u001b[0m in \u001b[0;36mfit\u001b[0;34m(self, X, y)\u001b[0m\n\u001b[1;32m    558\u001b[0m         \u001b[0;31m# Reset internal state before fitting\u001b[0m\u001b[0;34m\u001b[0m\u001b[0;34m\u001b[0m\u001b[0m\n\u001b[1;32m    559\u001b[0m         \u001b[0mself\u001b[0m\u001b[0;34m.\u001b[0m\u001b[0m_reset\u001b[0m\u001b[0;34m(\u001b[0m\u001b[0;34m)\u001b[0m\u001b[0;34m\u001b[0m\u001b[0m\n\u001b[0;32m--> 560\u001b[0;31m         \u001b[0;32mreturn\u001b[0m \u001b[0mself\u001b[0m\u001b[0;34m.\u001b[0m\u001b[0mpartial_fit\u001b[0m\u001b[0;34m(\u001b[0m\u001b[0mX\u001b[0m\u001b[0;34m,\u001b[0m \u001b[0my\u001b[0m\u001b[0;34m)\u001b[0m\u001b[0;34m\u001b[0m\u001b[0m\n\u001b[0m\u001b[1;32m    561\u001b[0m \u001b[0;34m\u001b[0m\u001b[0m\n\u001b[1;32m    562\u001b[0m     \u001b[0;32mdef\u001b[0m \u001b[0mpartial_fit\u001b[0m\u001b[0;34m(\u001b[0m\u001b[0mself\u001b[0m\u001b[0;34m,\u001b[0m \u001b[0mX\u001b[0m\u001b[0;34m,\u001b[0m \u001b[0my\u001b[0m\u001b[0;34m=\u001b[0m\u001b[0;32mNone\u001b[0m\u001b[0;34m)\u001b[0m\u001b[0;34m:\u001b[0m\u001b[0;34m\u001b[0m\u001b[0m\n",
      "\u001b[0;32m/home/raavan/anaconda3/lib/python3.6/site-packages/sklearn/preprocessing/data.py\u001b[0m in \u001b[0;36mpartial_fit\u001b[0;34m(self, X, y)\u001b[0m\n\u001b[1;32m    581\u001b[0m         X = check_array(X, accept_sparse=('csr', 'csc'), copy=self.copy,\n\u001b[1;32m    582\u001b[0m                         \u001b[0mensure_2d\u001b[0m\u001b[0;34m=\u001b[0m\u001b[0;32mFalse\u001b[0m\u001b[0;34m,\u001b[0m \u001b[0mwarn_on_dtype\u001b[0m\u001b[0;34m=\u001b[0m\u001b[0;32mTrue\u001b[0m\u001b[0;34m,\u001b[0m\u001b[0;34m\u001b[0m\u001b[0m\n\u001b[0;32m--> 583\u001b[0;31m                         estimator=self, dtype=FLOAT_DTYPES)\n\u001b[0m\u001b[1;32m    584\u001b[0m \u001b[0;34m\u001b[0m\u001b[0m\n\u001b[1;32m    585\u001b[0m         \u001b[0;32mif\u001b[0m \u001b[0mX\u001b[0m\u001b[0;34m.\u001b[0m\u001b[0mndim\u001b[0m \u001b[0;34m==\u001b[0m \u001b[0;36m1\u001b[0m\u001b[0;34m:\u001b[0m\u001b[0;34m\u001b[0m\u001b[0m\n",
      "\u001b[0;32m/home/raavan/anaconda3/lib/python3.6/site-packages/sklearn/utils/validation.py\u001b[0m in \u001b[0;36mcheck_array\u001b[0;34m(array, accept_sparse, dtype, order, copy, force_all_finite, ensure_2d, allow_nd, ensure_min_samples, ensure_min_features, warn_on_dtype, estimator)\u001b[0m\n\u001b[1;32m    405\u001b[0m                              % (array.ndim, estimator_name))\n\u001b[1;32m    406\u001b[0m         \u001b[0;32mif\u001b[0m \u001b[0mforce_all_finite\u001b[0m\u001b[0;34m:\u001b[0m\u001b[0;34m\u001b[0m\u001b[0m\n\u001b[0;32m--> 407\u001b[0;31m             \u001b[0m_assert_all_finite\u001b[0m\u001b[0;34m(\u001b[0m\u001b[0marray\u001b[0m\u001b[0;34m)\u001b[0m\u001b[0;34m\u001b[0m\u001b[0m\n\u001b[0m\u001b[1;32m    408\u001b[0m \u001b[0;34m\u001b[0m\u001b[0m\n\u001b[1;32m    409\u001b[0m     \u001b[0mshape_repr\u001b[0m \u001b[0;34m=\u001b[0m \u001b[0m_shape_repr\u001b[0m\u001b[0;34m(\u001b[0m\u001b[0marray\u001b[0m\u001b[0;34m.\u001b[0m\u001b[0mshape\u001b[0m\u001b[0;34m)\u001b[0m\u001b[0;34m\u001b[0m\u001b[0m\n",
      "\u001b[0;32m/home/raavan/anaconda3/lib/python3.6/site-packages/sklearn/utils/validation.py\u001b[0m in \u001b[0;36m_assert_all_finite\u001b[0;34m(X)\u001b[0m\n\u001b[1;32m     56\u001b[0m             and not np.isfinite(X).all()):\n\u001b[1;32m     57\u001b[0m         raise ValueError(\"Input contains NaN, infinity\"\n\u001b[0;32m---> 58\u001b[0;31m                          \" or a value too large for %r.\" % X.dtype)\n\u001b[0m\u001b[1;32m     59\u001b[0m \u001b[0;34m\u001b[0m\u001b[0m\n\u001b[1;32m     60\u001b[0m \u001b[0;34m\u001b[0m\u001b[0m\n",
      "\u001b[0;31mValueError\u001b[0m: Input contains NaN, infinity or a value too large for dtype('float64')."
     ]
    }
   ],
   "source": [
    "train = StandardScaler().fit_transform(train)"
   ]
  },
  {
   "cell_type": "code",
   "execution_count": null,
   "metadata": {
    "collapsed": true
   },
   "outputs": [],
   "source": []
  }
 ],
 "metadata": {
  "kernelspec": {
   "display_name": "Python 3",
   "language": "python",
   "name": "python3"
  },
  "language_info": {
   "codemirror_mode": {
    "name": "ipython",
    "version": 3
   },
   "file_extension": ".py",
   "mimetype": "text/x-python",
   "name": "python",
   "nbconvert_exporter": "python",
   "pygments_lexer": "ipython3",
   "version": "3.6.1"
  }
 },
 "nbformat": 4,
 "nbformat_minor": 2
}
