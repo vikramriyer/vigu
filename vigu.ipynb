{
 "cells": [
  {
   "cell_type": "code",
   "execution_count": 6,
   "metadata": {
    "collapsed": true
   },
   "outputs": [],
   "source": [
    "# imports\n",
    "import pandas as pd\n",
    "import numpy as np\n",
    "%matplotlib inline"
   ]
  },
  {
   "cell_type": "code",
   "execution_count": 3,
   "metadata": {},
   "outputs": [],
   "source": [
    "# ingest the data file used for training\n",
    "train = pd.read_csv(\"./dataset/train.csv\", low_memory=False)"
   ]
  },
  {
   "cell_type": "code",
   "execution_count": 9,
   "metadata": {},
   "outputs": [
    {
     "name": "stdout",
     "output_type": "stream",
     "text": [
      "total 1M\n",
      "drwxr-xr-x 48 raavan root   1M Nov  1 21:08 ..\n",
      "drwxr-xr-x  2 raavan raavan 1M Nov  1 21:09 .ipynb_checkpoints\n",
      "drwxrwxr-x  2 raavan raavan 1M Nov  2 10:34 dataset\n",
      "drwxrwxr-x  8 raavan raavan 1M Nov  2 10:38 .git\n",
      "-rw-rw-r--  1 raavan raavan 1M Nov  2 10:39 vigu.py.ipynb\n",
      "drwxrwxr-x  5 raavan raavan 1M Nov  2 10:39 .\n"
     ]
    }
   ],
   "source": [
    "%%bash\n",
    "# Directory structure\n",
    "ls -ltra --block-size=M"
   ]
  },
  {
   "cell_type": "code",
   "execution_count": null,
   "metadata": {
    "collapsed": true
   },
   "outputs": [],
   "source": []
  }
 ],
 "metadata": {
  "kernelspec": {
   "display_name": "Python 3",
   "language": "python",
   "name": "python3"
  },
  "language_info": {
   "codemirror_mode": {
    "name": "ipython",
    "version": 3
   },
   "file_extension": ".py",
   "mimetype": "text/x-python",
   "name": "python",
   "nbconvert_exporter": "python",
   "pygments_lexer": "ipython3",
   "version": "3.6.1"
  }
 },
 "nbformat": 4,
 "nbformat_minor": 2
}
