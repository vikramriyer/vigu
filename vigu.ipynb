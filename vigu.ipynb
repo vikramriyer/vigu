{
 "cells": [
  {
   "cell_type": "code",
   "execution_count": 24,
   "metadata": {
    "collapsed": true
   },
   "outputs": [],
   "source": [
    "import pandas as pd\n",
    "from sklearn.preprocessing import LabelEncoder, OneHotEncoder\n",
    "from sklearn.preprocessing import StandardScaler\n",
    "import numpy as np\n",
    "import matplotlib.pyplot as plt\n",
    "%matplotlib inline"
   ]
  },
  {
   "cell_type": "code",
   "execution_count": 4,
   "metadata": {},
   "outputs": [
    {
     "name": "stderr",
     "output_type": "stream",
     "text": [
      "/home/raavan/anaconda3/lib/python3.6/site-packages/IPython/core/interactiveshell.py:2717: DtypeWarning: Columns (294,299,300,302,307,313,315,365,367,369) have mixed types. Specify dtype option on import or set low_memory=False.\n",
      "  interactivity=interactivity, compiler=compiler, result=result)\n"
     ]
    }
   ],
   "source": [
    "data = pd.read_csv(\"dataset/train.csv\")"
   ]
  },
  {
   "cell_type": "code",
   "execution_count": 5,
   "metadata": {
    "collapsed": true
   },
   "outputs": [],
   "source": [
    "train_x = data.iloc[:, :-1]\n",
    "\n",
    "train_y = data.iloc[:,-1].values"
   ]
  },
  {
   "cell_type": "code",
   "execution_count": 6,
   "metadata": {},
   "outputs": [
    {
     "data": {
      "text/html": [
       "<div>\n",
       "<style>\n",
       "    .dataframe thead tr:only-child th {\n",
       "        text-align: right;\n",
       "    }\n",
       "\n",
       "    .dataframe thead th {\n",
       "        text-align: left;\n",
       "    }\n",
       "\n",
       "    .dataframe tbody tr th {\n",
       "        vertical-align: top;\n",
       "    }\n",
       "</style>\n",
       "<table border=\"1\" class=\"dataframe\">\n",
       "  <thead>\n",
       "    <tr style=\"text-align: right;\">\n",
       "      <th></th>\n",
       "      <th>UCIC_ID</th>\n",
       "      <th>NO_OF_Accs</th>\n",
       "      <th>HNW_CATEGORY</th>\n",
       "      <th>vintage</th>\n",
       "      <th>EMAIL_UNSUBSCRIBE</th>\n",
       "      <th>OCCUP_ALL_NEW</th>\n",
       "      <th>city</th>\n",
       "      <th>dependents</th>\n",
       "      <th>zip</th>\n",
       "      <th>FINAL_WORTH_prev1</th>\n",
       "      <th>...</th>\n",
       "      <th>Query_Logged_PrevQ1</th>\n",
       "      <th>Query_Resolved_PrevQ1</th>\n",
       "      <th>Complaint_Logged_PrevQ1</th>\n",
       "      <th>Complaint_Resolved_PrevQ1</th>\n",
       "      <th>NO_OF_CHEQUE_BOUNCE_V1</th>\n",
       "      <th>Percent_Change_in_Credits</th>\n",
       "      <th>Percent_Change_in_FT_Bank</th>\n",
       "      <th>Percent_Change_in_FT_outside</th>\n",
       "      <th>Percent_Change_in_Self_Txn</th>\n",
       "      <th>Percent_Change_in_Big_Expenses</th>\n",
       "    </tr>\n",
       "  </thead>\n",
       "  <tbody>\n",
       "    <tr>\n",
       "      <th>0</th>\n",
       "      <td>170114</td>\n",
       "      <td>1</td>\n",
       "      <td>2_Preferred</td>\n",
       "      <td>1947</td>\n",
       "      <td>NaN</td>\n",
       "      <td>HOUSEWIFE</td>\n",
       "      <td>BANGALORE</td>\n",
       "      <td>0.0</td>\n",
       "      <td>562114.0</td>\n",
       "      <td>HIGH</td>\n",
       "      <td>...</td>\n",
       "      <td>NaN</td>\n",
       "      <td>NaN</td>\n",
       "      <td>NaN</td>\n",
       "      <td>NaN</td>\n",
       "      <td>NaN</td>\n",
       "      <td>-94.757314</td>\n",
       "      <td>NaN</td>\n",
       "      <td>0.0</td>\n",
       "      <td>NaN</td>\n",
       "      <td>NaN</td>\n",
       "    </tr>\n",
       "    <tr>\n",
       "      <th>1</th>\n",
       "      <td>488013</td>\n",
       "      <td>1</td>\n",
       "      <td>1_Imperia</td>\n",
       "      <td>3082</td>\n",
       "      <td>NaN</td>\n",
       "      <td>SALARIED</td>\n",
       "      <td>MUMBAI</td>\n",
       "      <td>0.0</td>\n",
       "      <td>400015.0</td>\n",
       "      <td>HIGH</td>\n",
       "      <td>...</td>\n",
       "      <td>NaN</td>\n",
       "      <td>NaN</td>\n",
       "      <td>NaN</td>\n",
       "      <td>NaN</td>\n",
       "      <td>NaN</td>\n",
       "      <td>160.024566</td>\n",
       "      <td>NaN</td>\n",
       "      <td>0.0</td>\n",
       "      <td>NaN</td>\n",
       "      <td>0.0</td>\n",
       "    </tr>\n",
       "    <tr>\n",
       "      <th>2</th>\n",
       "      <td>435239</td>\n",
       "      <td>1</td>\n",
       "      <td>2_Preferred</td>\n",
       "      <td>572</td>\n",
       "      <td>NaN</td>\n",
       "      <td>SELF_EMPLOYED</td>\n",
       "      <td>HILI</td>\n",
       "      <td>NaN</td>\n",
       "      <td>733126.0</td>\n",
       "      <td>HIGH</td>\n",
       "      <td>...</td>\n",
       "      <td>NaN</td>\n",
       "      <td>NaN</td>\n",
       "      <td>NaN</td>\n",
       "      <td>NaN</td>\n",
       "      <td>NaN</td>\n",
       "      <td>273.771918</td>\n",
       "      <td>NaN</td>\n",
       "      <td>10.0</td>\n",
       "      <td>NaN</td>\n",
       "      <td>NaN</td>\n",
       "    </tr>\n",
       "    <tr>\n",
       "      <th>3</th>\n",
       "      <td>331646</td>\n",
       "      <td>1</td>\n",
       "      <td>3_Classic</td>\n",
       "      <td>773</td>\n",
       "      <td>NaN</td>\n",
       "      <td>SELF_EMPLOYED</td>\n",
       "      <td>NAMAKKAL</td>\n",
       "      <td>0.0</td>\n",
       "      <td>637410.0</td>\n",
       "      <td>HIGH</td>\n",
       "      <td>...</td>\n",
       "      <td>NaN</td>\n",
       "      <td>NaN</td>\n",
       "      <td>NaN</td>\n",
       "      <td>NaN</td>\n",
       "      <td>NaN</td>\n",
       "      <td>NaN</td>\n",
       "      <td>NaN</td>\n",
       "      <td>NaN</td>\n",
       "      <td>NaN</td>\n",
       "      <td>NaN</td>\n",
       "    </tr>\n",
       "    <tr>\n",
       "      <th>4</th>\n",
       "      <td>226900</td>\n",
       "      <td>1</td>\n",
       "      <td>2_Preferred</td>\n",
       "      <td>1627</td>\n",
       "      <td>NaN</td>\n",
       "      <td>HOUSEWIFE</td>\n",
       "      <td>MUMBAI</td>\n",
       "      <td>0.0</td>\n",
       "      <td>400053.0</td>\n",
       "      <td>HIGH</td>\n",
       "      <td>...</td>\n",
       "      <td>NaN</td>\n",
       "      <td>NaN</td>\n",
       "      <td>NaN</td>\n",
       "      <td>NaN</td>\n",
       "      <td>NaN</td>\n",
       "      <td>399.997265</td>\n",
       "      <td>NaN</td>\n",
       "      <td>7.0</td>\n",
       "      <td>NaN</td>\n",
       "      <td>NaN</td>\n",
       "    </tr>\n",
       "  </tbody>\n",
       "</table>\n",
       "<p>5 rows × 376 columns</p>\n",
       "</div>"
      ],
      "text/plain": [
       "   UCIC_ID  NO_OF_Accs HNW_CATEGORY  vintage EMAIL_UNSUBSCRIBE  OCCUP_ALL_NEW  \\\n",
       "0   170114           1  2_Preferred     1947               NaN      HOUSEWIFE   \n",
       "1   488013           1    1_Imperia     3082               NaN       SALARIED   \n",
       "2   435239           1  2_Preferred      572               NaN  SELF_EMPLOYED   \n",
       "3   331646           1    3_Classic      773               NaN  SELF_EMPLOYED   \n",
       "4   226900           1  2_Preferred     1627               NaN      HOUSEWIFE   \n",
       "\n",
       "        city  dependents       zip FINAL_WORTH_prev1  \\\n",
       "0  BANGALORE         0.0  562114.0              HIGH   \n",
       "1     MUMBAI         0.0  400015.0              HIGH   \n",
       "2       HILI         NaN  733126.0              HIGH   \n",
       "3   NAMAKKAL         0.0  637410.0              HIGH   \n",
       "4     MUMBAI         0.0  400053.0              HIGH   \n",
       "\n",
       "                ...               Query_Logged_PrevQ1  Query_Resolved_PrevQ1  \\\n",
       "0               ...                               NaN                    NaN   \n",
       "1               ...                               NaN                    NaN   \n",
       "2               ...                               NaN                    NaN   \n",
       "3               ...                               NaN                    NaN   \n",
       "4               ...                               NaN                    NaN   \n",
       "\n",
       "   Complaint_Logged_PrevQ1  Complaint_Resolved_PrevQ1  NO_OF_CHEQUE_BOUNCE_V1  \\\n",
       "0                      NaN                        NaN                     NaN   \n",
       "1                      NaN                        NaN                     NaN   \n",
       "2                      NaN                        NaN                     NaN   \n",
       "3                      NaN                        NaN                     NaN   \n",
       "4                      NaN                        NaN                     NaN   \n",
       "\n",
       "   Percent_Change_in_Credits  Percent_Change_in_FT_Bank  \\\n",
       "0                 -94.757314                        NaN   \n",
       "1                 160.024566                        NaN   \n",
       "2                 273.771918                        NaN   \n",
       "3                        NaN                        NaN   \n",
       "4                 399.997265                        NaN   \n",
       "\n",
       "   Percent_Change_in_FT_outside  Percent_Change_in_Self_Txn  \\\n",
       "0                           0.0                         NaN   \n",
       "1                           0.0                         NaN   \n",
       "2                          10.0                         NaN   \n",
       "3                           NaN                         NaN   \n",
       "4                           7.0                         NaN   \n",
       "\n",
       "   Percent_Change_in_Big_Expenses  \n",
       "0                             NaN  \n",
       "1                             0.0  \n",
       "2                             NaN  \n",
       "3                             NaN  \n",
       "4                             NaN  \n",
       "\n",
       "[5 rows x 376 columns]"
      ]
     },
     "execution_count": 6,
     "metadata": {},
     "output_type": "execute_result"
    }
   ],
   "source": [
    "train_x.head()"
   ]
  },
  {
   "cell_type": "code",
   "execution_count": 7,
   "metadata": {},
   "outputs": [
    {
     "data": {
      "text/plain": [
       "array([0, 0, 1, ..., 0, 0, 1])"
      ]
     },
     "execution_count": 7,
     "metadata": {},
     "output_type": "execute_result"
    }
   ],
   "source": [
    "train_y"
   ]
  },
  {
   "cell_type": "code",
   "execution_count": 8,
   "metadata": {
    "collapsed": true
   },
   "outputs": [],
   "source": [
    "train_x=train_x.dropna(axis=1,how='all')\n",
    "train_x=train_x.dropna(axis=0,how='all')\n",
    "train_x.drop('city',axis=1,inplace=True)\n",
    "train_x.drop('zip',axis=1,inplace=True)"
   ]
  },
  {
   "cell_type": "code",
   "execution_count": 9,
   "metadata": {},
   "outputs": [
    {
     "data": {
      "text/plain": [
       "(300000, 213)"
      ]
     },
     "execution_count": 9,
     "metadata": {},
     "output_type": "execute_result"
    }
   ],
   "source": [
    "frac = len(train_x) * 0.7\n",
    "train_x=train_x.dropna(thresh=frac, axis=1)\n",
    "train_x.shape"
   ]
  },
  {
   "cell_type": "code",
   "execution_count": 10,
   "metadata": {},
   "outputs": [
    {
     "data": {
      "text/plain": [
       "OCCUP_ALL_NEW               96\n",
       "dependents               26382\n",
       "FINAL_WORTH_prev1          186\n",
       "ENGAGEMENT_TAG_prev1       186\n",
       "Recency_of_CR_TXN        33194\n",
       "Recency_of_DR_TXN        23252\n",
       "Recency_of_BRANCH_TXN    18368\n",
       "Recency_of_Activity        477\n",
       "dtype: int64"
      ]
     },
     "execution_count": 10,
     "metadata": {},
     "output_type": "execute_result"
    }
   ],
   "source": [
    "null_columns=train_x.columns[train_x.isnull().any()]\n",
    "train_x[null_columns].isnull().sum()"
   ]
  },
  {
   "cell_type": "code",
   "execution_count": 11,
   "metadata": {},
   "outputs": [
    {
     "data": {
      "text/plain": [
       "[2, 4, 6, 7, 176, 188, 189, 190, 191, 193, 195]"
      ]
     },
     "execution_count": 11,
     "metadata": {},
     "output_type": "execute_result"
    }
   ],
   "source": [
    "obj=train_x.select_dtypes(include=[object]).columns\n",
    "obj\n",
    "\n",
    "lis=[]\n",
    "for x in obj:\n",
    "    lis.append(train_x.columns.get_loc(x))\n",
    "lis   "
   ]
  },
  {
   "cell_type": "code",
   "execution_count": 12,
   "metadata": {
    "collapsed": true
   },
   "outputs": [],
   "source": [
    "for col in train_x.columns.values:\n",
    "    if train_x[col].dtypes != 'object':\n",
    "        train_x[col].fillna(train_x[col].mean(), inplace=True)"
   ]
  },
  {
   "cell_type": "code",
   "execution_count": 13,
   "metadata": {
    "collapsed": true
   },
   "outputs": [],
   "source": [
    "for col in train_x.columns.values:\n",
    "    if train_x[col].dtypes == 'object':\n",
    "        train_x[col].fillna(train_x[col].value_counts().index[0], inplace=True)"
   ]
  },
  {
   "cell_type": "code",
   "execution_count": 14,
   "metadata": {},
   "outputs": [
    {
     "data": {
      "text/plain": [
       "Series([], dtype: float64)"
      ]
     },
     "execution_count": 14,
     "metadata": {},
     "output_type": "execute_result"
    }
   ],
   "source": [
    "null_columns=train_x.columns[train_x.isnull().any()]\n",
    "train_x[null_columns].isnull().sum()"
   ]
  },
  {
   "cell_type": "code",
   "execution_count": 15,
   "metadata": {
    "collapsed": true
   },
   "outputs": [],
   "source": [
    "labelencoder = LabelEncoder()\n",
    "\n",
    "for col in train_x.columns.values:\n",
    "    if train_x[col].dtypes == 'object':\n",
    "        train_x[col] = labelencoder.fit_transform(train_x[col])\n"
   ]
  },
  {
   "cell_type": "code",
   "execution_count": 16,
   "metadata": {
    "collapsed": true
   },
   "outputs": [],
   "source": [
    "onehotencoder = OneHotEncoder(categorical_features=lis)\n",
    "train_x = onehotencoder.fit_transform(train_x).toarray()"
   ]
  },
  {
   "cell_type": "code",
   "execution_count": 17,
   "metadata": {
    "collapsed": true
   },
   "outputs": [],
   "source": [
    "sc_X = StandardScaler()\n",
    "train_x = sc_X.fit_transform(train_x)"
   ]
  },
  {
   "cell_type": "code",
   "execution_count": 22,
   "metadata": {},
   "outputs": [
    {
     "data": {
      "text/plain": [
       "array([[-0.38297603,  0.97011955, -0.7450051 , ..., -0.00763294,\n",
       "        -0.00299697, -0.00479285],\n",
       "       [ 2.61112945, -1.03080079, -0.7450051 , ..., -0.00763518,\n",
       "        -0.00299537, -0.00480853],\n",
       "       [-0.38297603,  0.97011955, -0.7450051 , ..., -0.0076297 ,\n",
       "        -0.00300571, -0.0047885 ],\n",
       "       ..., \n",
       "       [-0.38297603,  0.97011955, -0.7450051 , ..., -0.0075623 ,\n",
       "        -0.00299536, -0.0048018 ],\n",
       "       [-0.38297603,  0.97011955, -0.7450051 , ..., -0.00763191,\n",
       "        -0.00299521, -0.004802  ],\n",
       "       [-0.38297603, -1.03080079,  1.34227268, ..., -0.0076552 ,\n",
       "        -0.00298662, -0.00481975]])"
      ]
     },
     "execution_count": 22,
     "metadata": {},
     "output_type": "execute_result"
    }
   ],
   "source": [
    "train_x"
   ]
  },
  {
   "cell_type": "code",
   "execution_count": 18,
   "metadata": {
    "collapsed": true
   },
   "outputs": [],
   "source": [
    "from sklearn.decomposition import PCA\n",
    "pca = PCA()"
   ]
  },
  {
   "cell_type": "code",
   "execution_count": 19,
   "metadata": {},
   "outputs": [],
   "source": [
    "pca = pca.fit(train_x)"
   ]
  },
  {
   "cell_type": "code",
   "execution_count": 22,
   "metadata": {},
   "outputs": [],
   "source": [
    "variance = np.cumsum(np.round(pca.explained_variance_ratio_, decimals=4)*100)"
   ]
  },
  {
   "cell_type": "code",
   "execution_count": 25,
   "metadata": {},
   "outputs": [
    {
     "data": {
      "text/plain": [
       "[<matplotlib.lines.Line2D at 0x7f61d480aba8>]"
      ]
     },
     "execution_count": 25,
     "metadata": {},
     "output_type": "execute_result"
    },
    {
     "data": {
      "image/png": "[encoded data removed]",
      "text/plain": [
       "<matplotlib.figure.Figure at 0x7f61d9b99940>"
      ]
     },
     "metadata": {},
     "output_type": "display_data"
    }
   ],
   "source": [
    "plt.plot(variance)"
   ]
  },
  {
   "cell_type": "code",
   "execution_count": 26,
   "metadata": {
    "collapsed": true
   },
   "outputs": [],
   "source": [
    "pca = PCA(n_components=100)"
   ]
  },
  {
   "cell_type": "code",
   "execution_count": 27,
   "metadata": {
    "collapsed": true
   },
   "outputs": [],
   "source": [
    "train_x_pca = pca.fit_transform(train_x)"
   ]
  },
  {
   "cell_type": "code",
   "execution_count": 29,
   "metadata": {
    "collapsed": true
   },
   "outputs": [],
   "source": [
    "from sklearn.model_selection import train_test_split"
   ]
  },
  {
   "cell_type": "code",
   "execution_count": 30,
   "metadata": {
    "collapsed": true
   },
   "outputs": [],
   "source": [
    "train_X, test_X, train_y, test_y = train_test_split(train_x_pca, train_y, test_size=0.33, random_state=42)"
   ]
  },
  {
   "cell_type": "code",
   "execution_count": 31,
   "metadata": {
    "collapsed": true
   },
   "outputs": [],
   "source": [
    "from sklearn.tree import DecisionTreeClassifier"
   ]
  },
  {
   "cell_type": "code",
   "execution_count": 32,
   "metadata": {
    "collapsed": true
   },
   "outputs": [],
   "source": [
    "clf = DecisionTreeClassifier(min_samples_split=5)"
   ]
  },
  {
   "cell_type": "code",
   "execution_count": 33,
   "metadata": {},
   "outputs": [
    {
     "data": {
      "text/plain": [
       "DecisionTreeClassifier(class_weight=None, criterion='gini', max_depth=None,\n",
       "            max_features=None, max_leaf_nodes=None,\n",
       "            min_impurity_split=1e-07, min_samples_leaf=1,\n",
       "            min_samples_split=5, min_weight_fraction_leaf=0.0,\n",
       "            presort=False, random_state=None, splitter='best')"
      ]
     },
     "execution_count": 33,
     "metadata": {},
     "output_type": "execute_result"
    }
   ],
   "source": [
    "clf.fit(train_X, train_y)"
   ]
  },
  {
   "cell_type": "code",
   "execution_count": 34,
   "metadata": {
    "collapsed": true
   },
   "outputs": [],
   "source": [
    "test_pred = clf.predict(test_X)"
   ]
  },
  {
   "cell_type": "code",
   "execution_count": 35,
   "metadata": {
    "collapsed": true
   },
   "outputs": [],
   "source": [
    "from sklearn.metrics import accuracy_score"
   ]
  },
  {
   "cell_type": "code",
   "execution_count": 36,
   "metadata": {},
   "outputs": [
    {
     "data": {
      "text/plain": [
       "0.74091919191919187"
      ]
     },
     "execution_count": 36,
     "metadata": {},
     "output_type": "execute_result"
    }
   ],
   "source": [
    "accuracy_score(test_y, test_pred)"
   ]
  },
  {
   "cell_type": "code",
   "execution_count": null,
   "metadata": {
    "collapsed": true
   },
   "outputs": [],
   "source": []
  }
 ],
 "metadata": {
  "kernelspec": {
   "display_name": "Python 3",
   "language": "python",
   "name": "python3"
  },
  "language_info": {
   "codemirror_mode": {
    "name": "ipython",
    "version": 3
   },
   "file_extension": ".py",
   "mimetype": "text/x-python",
   "name": "python",
   "nbconvert_exporter": "python",
   "pygments_lexer": "ipython3",
   "version": "3.6.1"
  }
 },
 "nbformat": 4,
 "nbformat_minor": 2
}
