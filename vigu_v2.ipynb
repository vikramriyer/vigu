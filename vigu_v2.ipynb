{
 "cells": [
  {
   "cell_type": "code",
   "execution_count": 1,
   "metadata": {
    "collapsed": true
   },
   "outputs": [],
   "source": [
    "import pandas as pd\n",
    "from sklearn.preprocessing import LabelEncoder, OneHotEncoder\n",
    "from sklearn.preprocessing import StandardScaler\n",
    "import numpy as np\n",
    "import matplotlib.pyplot as plt\n",
    "from sklearn.model_selection import train_test_split\n",
    "from sklearn.ensemble import AdaBoostClassifier\n",
    "from sklearn.ensemble import GradientBoostingClassifier\n",
    "from sklearn.ensemble import RandomForestClassifier\n",
    "from sklearn.metrics import accuracy_score\n",
    "from sklearn.tree import DecisionTreeClassifier\n",
    "%matplotlib inline"
   ]
  },
  {
   "cell_type": "code",
   "execution_count": 2,
   "metadata": {
    "collapsed": true
   },
   "outputs": [],
   "source": [
    "train = pd.read_csv(\"dataset/train.csv\", low_memory=False)\n",
    "test = pd.read_csv(\"dataset/test.csv\", low_memory=False)"
   ]
  },
  {
   "cell_type": "code",
   "execution_count": 3,
   "metadata": {
    "collapsed": true
   },
   "outputs": [],
   "source": [
    "train.set_index('UCIC_ID', inplace=True)"
   ]
  },
  {
   "cell_type": "code",
   "execution_count": 4,
   "metadata": {
    "collapsed": true
   },
   "outputs": [],
   "source": [
    "features = train.iloc[:, :-1]\n",
    "labels = train.iloc[:,-1].values\n",
    "test_ucic_id = test['UCIC_ID']"
   ]
  },
  {
   "cell_type": "code",
   "execution_count": 5,
   "metadata": {},
   "outputs": [
    {
     "data": {
      "text/plain": [
       "((300000, 376), (200000, 376))"
      ]
     },
     "execution_count": 5,
     "metadata": {},
     "output_type": "execute_result"
    }
   ],
   "source": [
    "train.shape, test.shape"
   ]
  },
  {
   "cell_type": "raw",
   "metadata": {},
   "source": [
    "Let's remove all the columns such that all of the rows are NaN."
   ]
  },
  {
   "cell_type": "code",
   "execution_count": 38,
   "metadata": {
    "collapsed": true
   },
   "outputs": [],
   "source": [
    "features.dropna(axis=1, how='all', inplace=True)\n",
    "features.dropna(axis=0, how='all', inplace=True)\n",
    "#features.drop('city', axis=1, inplace=True)\n",
    "features.drop('zip', axis=1, inplace=True)"
   ]
  },
  {
   "cell_type": "code",
   "execution_count": 7,
   "metadata": {},
   "outputs": [
    {
     "data": {
      "text/plain": [
       "(300000, 371)"
      ]
     },
     "execution_count": 7,
     "metadata": {},
     "output_type": "execute_result"
    }
   ],
   "source": [
    "features.shape"
   ]
  },
  {
   "cell_type": "raw",
   "metadata": {},
   "source": [
    "We can see that 4 columns have been removed."
   ]
  },
  {
   "cell_type": "code",
   "execution_count": 19,
   "metadata": {},
   "outputs": [
    {
     "data": {
      "text/plain": [
       "(300000, 214)"
      ]
     },
     "execution_count": 19,
     "metadata": {},
     "output_type": "execute_result"
    }
   ],
   "source": [
    "frac = len(features) * 0.7\n",
    "features.dropna(thresh=frac, axis=1, inplace=True)\n",
    "features.shape"
   ]
  },
  {
   "cell_type": "code",
   "execution_count": 20,
   "metadata": {},
   "outputs": [
    {
     "data": {
      "text/plain": [
       "OCCUP_ALL_NEW               96\n",
       "city                      5701\n",
       "dependents               26382\n",
       "zip                       1050\n",
       "FINAL_WORTH_prev1          186\n",
       "ENGAGEMENT_TAG_prev1       186\n",
       "Recency_of_CR_TXN        33194\n",
       "Recency_of_DR_TXN        23252\n",
       "Recency_of_BRANCH_TXN    18368\n",
       "Recency_of_Activity        477\n",
       "dtype: int64"
      ]
     },
     "execution_count": 20,
     "metadata": {},
     "output_type": "execute_result"
    }
   ],
   "source": [
    "null_columns = features.columns[features.isnull().any()]\n",
    "features[null_columns].isnull().sum()"
   ]
  },
  {
   "cell_type": "code",
   "execution_count": 21,
   "metadata": {
    "collapsed": true
   },
   "outputs": [],
   "source": [
    "obj = features.select_dtypes(include=[object]).columns\n",
    "\n",
    "feature_indices = []\n",
    "for col in obj:\n",
    "    feature_indices.append(features.columns.get_loc(col))"
   ]
  },
  {
   "cell_type": "code",
   "execution_count": 22,
   "metadata": {
    "collapsed": true
   },
   "outputs": [],
   "source": [
    "for col in features.columns.values:\n",
    "    if features[col].dtypes != 'object':\n",
    "        features[col].fillna(features[col].median(), inplace=True)"
   ]
  },
  {
   "cell_type": "code",
   "execution_count": 36,
   "metadata": {
    "collapsed": true
   },
   "outputs": [],
   "source": [
    "for col in features.columns.values:\n",
    "    if features[col].dtypes == 'object':\n",
    "        features[col].fillna(features[col].value_counts().index[0], inplace=True)"
   ]
  },
  {
   "cell_type": "code",
   "execution_count": 39,
   "metadata": {},
   "outputs": [
    {
     "data": {
      "text/plain": [
       "(376, 213)"
      ]
     },
     "execution_count": 39,
     "metadata": {},
     "output_type": "execute_result"
    }
   ],
   "source": [
    "all_columns = train.columns.tolist()\n",
    "new_columns = features.columns.tolist()\n",
    "len(all_columns), len(new_columns)"
   ]
  },
  {
   "cell_type": "code",
   "execution_count": 40,
   "metadata": {
    "collapsed": true
   },
   "outputs": [],
   "source": [
    "labelencoder = LabelEncoder()\n",
    "\n",
    "for col in features.columns.values:\n",
    "    if features[col].dtypes == 'object':\n",
    "        features[col] = labelencoder.fit_transform(features[col])"
   ]
  },
  {
   "cell_type": "raw",
   "metadata": {},
   "source": [
    "onehotencoder = OneHotEncoder(categorical_features = feature_indices)\n",
    "features = onehotencoder.fit_transform(features).toarray()"
   ]
  },
  {
   "cell_type": "code",
   "execution_count": 14,
   "metadata": {
    "collapsed": true
   },
   "outputs": [],
   "source": [
    "std_scalar = StandardScaler()\n",
    "features = std_scalar.fit_transform(features)"
   ]
  },
  {
   "cell_type": "code",
   "execution_count": 42,
   "metadata": {
    "collapsed": true
   },
   "outputs": [],
   "source": [
    "train_X, validate_X, train_y, validate_y = train_test_split(features, labels, test_size=0.33, random_state=42)"
   ]
  },
  {
   "cell_type": "code",
   "execution_count": 43,
   "metadata": {
    "collapsed": true
   },
   "outputs": [],
   "source": [
    "# Trying different classifiers\n",
    "ada_clf = AdaBoostClassifier()\n",
    "gbc_clf = GradientBoostingClassifier()\n",
    "ran_clf = RandomForestClassifier()"
   ]
  },
  {
   "cell_type": "code",
   "execution_count": 44,
   "metadata": {},
   "outputs": [
    {
     "name": "stdout",
     "output_type": "stream",
     "text": [
      "Ada boost accuracy: 0.8683131313131313\n"
     ]
    }
   ],
   "source": [
    "ada_clf.fit(train_X, train_y)\n",
    "test_pred = ada_clf.predict(validate_X)\n",
    "print(\"Ada boost accuracy: {}\".format(accuracy_score(validate_y, test_pred)))"
   ]
  },
  {
   "cell_type": "code",
   "execution_count": 45,
   "metadata": {},
   "outputs": [
    {
     "name": "stdout",
     "output_type": "stream",
     "text": [
      "Gradient boost accuracy: 0.8785858585858586\n"
     ]
    }
   ],
   "source": [
    "gbc_clf.fit(train_X, train_y)\n",
    "test_pred = gbc_clf.predict(validate_X)\n",
    "print(\"Gradient boost accuracy: {}\".format(accuracy_score(validate_y, test_pred)))"
   ]
  },
  {
   "cell_type": "code",
   "execution_count": 46,
   "metadata": {},
   "outputs": [
    {
     "name": "stdout",
     "output_type": "stream",
     "text": [
      "Random Forest accuracy: 0.8663131313131314\n"
     ]
    }
   ],
   "source": [
    "ran_clf.fit(train_X, train_y)\n",
    "test_pred = ran_clf.predict(validate_X)\n",
    "print(\"Random Forest accuracy: {}\".format(accuracy_score(validate_y, test_pred)))"
   ]
  },
  {
   "cell_type": "raw",
   "metadata": {},
   "source": [
    "Now, running the same algo on test"
   ]
  },
  {
   "cell_type": "code",
   "execution_count": 21,
   "metadata": {
    "collapsed": true
   },
   "outputs": [],
   "source": [
    "# keep only the columns that were present in the training set\n",
    "to_be_removed = [x for x in all_columns if x not in new_columns]\n",
    "to_be_removed.remove('Responders')"
   ]
  },
  {
   "cell_type": "code",
   "execution_count": 22,
   "metadata": {
    "collapsed": true
   },
   "outputs": [],
   "source": [
    "test.drop(to_be_removed, axis=1, inplace=True)"
   ]
  },
  {
   "cell_type": "code",
   "execution_count": 23,
   "metadata": {
    "collapsed": true
   },
   "outputs": [],
   "source": [
    "obj_test = test.select_dtypes(include=[object]).columns\n",
    "\n",
    "feature_indices_test = []\n",
    "for col in obj_test:\n",
    "    feature_indices_test.append(test.columns.get_loc(col))"
   ]
  },
  {
   "cell_type": "code",
   "execution_count": 24,
   "metadata": {
    "collapsed": true
   },
   "outputs": [],
   "source": [
    "for col in test.columns.values:\n",
    "    if test[col].dtypes != 'object':\n",
    "        test[col].fillna(test[col].mean(), inplace=True)"
   ]
  },
  {
   "cell_type": "code",
   "execution_count": 25,
   "metadata": {
    "collapsed": true
   },
   "outputs": [],
   "source": [
    "for col in test.columns.values:\n",
    "    if test[col].dtypes == 'object':\n",
    "        test[col].fillna(test[col].value_counts().index[0], inplace=True)"
   ]
  },
  {
   "cell_type": "code",
   "execution_count": 26,
   "metadata": {
    "collapsed": true
   },
   "outputs": [],
   "source": [
    "labelencoder = LabelEncoder()\n",
    "\n",
    "for col in test.columns.values:\n",
    "    if test[col].dtypes == 'object':\n",
    "        test[col] = labelencoder.fit_transform(test[col])"
   ]
  },
  {
   "cell_type": "raw",
   "metadata": {
    "collapsed": true
   },
   "source": [
    "onehotencoder = OneHotEncoder(categorical_features=feature_indices_test)\n",
    "test = onehotencoder.fit_transform(test).toarray()"
   ]
  },
  {
   "cell_type": "raw",
   "metadata": {
    "collapsed": true
   },
   "source": [
    "test = std_scalar.fit_transform(test)"
   ]
  },
  {
   "cell_type": "code",
   "execution_count": 30,
   "metadata": {
    "collapsed": true
   },
   "outputs": [],
   "source": [
    "predicted = gbc_clf.predict(test)"
   ]
  },
  {
   "cell_type": "code",
   "execution_count": 32,
   "metadata": {
    "collapsed": true
   },
   "outputs": [],
   "source": [
    "submission = pd.DataFrame()"
   ]
  },
  {
   "cell_type": "code",
   "execution_count": 35,
   "metadata": {
    "collapsed": true
   },
   "outputs": [],
   "source": [
    "submission['UCIC_ID'] = test_ucic_id\n",
    "submission['Responders'] = predicted"
   ]
  },
  {
   "cell_type": "code",
   "execution_count": 39,
   "metadata": {},
   "outputs": [
    {
     "data": {
      "text/plain": [
       "118041"
      ]
     },
     "execution_count": 39,
     "metadata": {},
     "output_type": "execute_result"
    }
   ],
   "source": [
    "len(submission[submission.Responders == 0])"
   ]
  },
  {
   "cell_type": "code",
   "execution_count": 40,
   "metadata": {},
   "outputs": [
    {
     "data": {
      "text/plain": [
       "81959"
      ]
     },
     "execution_count": 40,
     "metadata": {},
     "output_type": "execute_result"
    }
   ],
   "source": [
    "len(submission[submission.Responders == 1])"
   ]
  },
  {
   "cell_type": "code",
   "execution_count": 41,
   "metadata": {},
   "outputs": [
    {
     "data": {
      "text/plain": [
       "200000"
      ]
     },
     "execution_count": 41,
     "metadata": {},
     "output_type": "execute_result"
    }
   ],
   "source": [
    "len(submission)"
   ]
  },
  {
   "cell_type": "code",
   "execution_count": 42,
   "metadata": {
    "collapsed": true
   },
   "outputs": [],
   "source": [
    "submission.to_csv(\"submission1.csv\", index=False)"
   ]
  },
  {
   "cell_type": "code",
   "execution_count": 48,
   "metadata": {},
   "outputs": [
    {
     "data": {
      "text/plain": [
       "['NO_OF_Accs',\n",
       " 'HNW_CATEGORY',\n",
       " 'vintage',\n",
       " 'OCCUP_ALL_NEW',\n",
       " 'city',\n",
       " 'dependents',\n",
       " 'FINAL_WORTH_prev1',\n",
       " 'ENGAGEMENT_TAG_prev1',\n",
       " 'C_prev1',\n",
       " 'D_prev1',\n",
       " 'ATM_C_prev1',\n",
       " 'ATM_D_prev1',\n",
       " 'BRANCH_C_prev1',\n",
       " 'BRANCH_D_prev1',\n",
       " 'IB_C_prev1',\n",
       " 'IB_D_prev1',\n",
       " 'MB_C_prev1',\n",
       " 'MB_D_prev1',\n",
       " 'POS_C_prev1',\n",
       " 'POS_D_prev1',\n",
       " 'count_C_prev1',\n",
       " 'count_D_prev1',\n",
       " 'COUNT_ATM_C_prev1',\n",
       " 'COUNT_ATM_D_prev1',\n",
       " 'COUNT_BRANCH_C_prev1',\n",
       " 'COUNT_BRANCH_D_prev1',\n",
       " 'COUNT_IB_C_prev1',\n",
       " 'COUNT_IB_D_prev1',\n",
       " 'COUNT_MB_C_prev1',\n",
       " 'COUNT_MB_D_prev1',\n",
       " 'COUNT_POS_C_prev1',\n",
       " 'COUNT_POS_D_prev1',\n",
       " 'CNR_prev1',\n",
       " 'BAL_prev1',\n",
       " 'EOP_prev1',\n",
       " 'CR_AMB_Prev1',\n",
       " 'C_prev2',\n",
       " 'D_prev2',\n",
       " 'ATM_C_prev2',\n",
       " 'ATM_D_prev2',\n",
       " 'BRANCH_C_prev2',\n",
       " 'BRANCH_D_prev2',\n",
       " 'IB_C_prev2',\n",
       " 'IB_D_prev2',\n",
       " 'MB_C_prev2',\n",
       " 'MB_D_prev2',\n",
       " 'POS_C_prev2',\n",
       " 'POS_D_prev2',\n",
       " 'count_C_prev2',\n",
       " 'count_D_prev2',\n",
       " 'COUNT_ATM_C_prev2',\n",
       " 'COUNT_ATM_D_prev2',\n",
       " 'COUNT_BRANCH_C_prev2',\n",
       " 'COUNT_BRANCH_D_prev2',\n",
       " 'COUNT_IB_C_prev2',\n",
       " 'COUNT_IB_D_prev2',\n",
       " 'COUNT_MB_C_prev2',\n",
       " 'COUNT_MB_D_prev2',\n",
       " 'COUNT_POS_C_prev2',\n",
       " 'COUNT_POS_D_prev2',\n",
       " 'CNR_prev2',\n",
       " 'BAL_prev2',\n",
       " 'EOP_prev2',\n",
       " 'CR_AMB_Prev2',\n",
       " 'C_prev3',\n",
       " 'D_prev3',\n",
       " 'ATM_C_prev3',\n",
       " 'ATM_D_prev3',\n",
       " 'BRANCH_C_prev3',\n",
       " 'BRANCH_D_prev3',\n",
       " 'IB_C_prev3',\n",
       " 'IB_D_prev3',\n",
       " 'MB_C_prev3',\n",
       " 'MB_D_prev3',\n",
       " 'POS_C_prev3',\n",
       " 'POS_D_prev3',\n",
       " 'count_C_prev3',\n",
       " 'count_D_prev3',\n",
       " 'COUNT_ATM_C_prev3',\n",
       " 'COUNT_ATM_D_prev3',\n",
       " 'COUNT_BRANCH_C_prev3',\n",
       " 'COUNT_BRANCH_D_prev3',\n",
       " 'COUNT_IB_C_prev3',\n",
       " 'COUNT_IB_D_prev3',\n",
       " 'COUNT_MB_C_prev3',\n",
       " 'COUNT_MB_D_prev3',\n",
       " 'COUNT_POS_C_prev3',\n",
       " 'COUNT_POS_D_prev3',\n",
       " 'CNR_prev3',\n",
       " 'BAL_prev3',\n",
       " 'EOP_prev3',\n",
       " 'CR_AMB_Prev3',\n",
       " 'C_prev4',\n",
       " 'D_prev4',\n",
       " 'ATM_C_prev4',\n",
       " 'ATM_D_prev4',\n",
       " 'BRANCH_C_prev4',\n",
       " 'BRANCH_D_prev4',\n",
       " 'IB_C_prev4',\n",
       " 'IB_D_prev4',\n",
       " 'MB_C_prev4',\n",
       " 'MB_D_prev4',\n",
       " 'POS_C_prev4',\n",
       " 'POS_D_prev4',\n",
       " 'count_C_prev4',\n",
       " 'count_D_prev4',\n",
       " 'COUNT_ATM_C_prev4',\n",
       " 'COUNT_ATM_D_prev4',\n",
       " 'COUNT_BRANCH_C_prev4',\n",
       " 'COUNT_BRANCH_D_prev4',\n",
       " 'COUNT_IB_C_prev4',\n",
       " 'COUNT_IB_D_prev4',\n",
       " 'COUNT_MB_C_prev4',\n",
       " 'COUNT_MB_D_prev4',\n",
       " 'COUNT_POS_C_prev4',\n",
       " 'COUNT_POS_D_prev4',\n",
       " 'CNR_prev4',\n",
       " 'BAL_prev4',\n",
       " 'EOP_prev4',\n",
       " 'CR_AMB_Prev4',\n",
       " 'C_prev5',\n",
       " 'D_prev5',\n",
       " 'ATM_C_prev5',\n",
       " 'ATM_D_prev5',\n",
       " 'BRANCH_C_prev5',\n",
       " 'BRANCH_D_prev5',\n",
       " 'IB_C_prev5',\n",
       " 'IB_D_prev5',\n",
       " 'MB_C_prev5',\n",
       " 'MB_D_prev5',\n",
       " 'POS_C_prev5',\n",
       " 'POS_D_prev5',\n",
       " 'count_C_prev5',\n",
       " 'count_D_prev5',\n",
       " 'COUNT_ATM_C_prev5',\n",
       " 'COUNT_ATM_D_prev5',\n",
       " 'COUNT_BRANCH_C_prev5',\n",
       " 'COUNT_BRANCH_D_prev5',\n",
       " 'COUNT_IB_C_prev5',\n",
       " 'COUNT_IB_D_prev5',\n",
       " 'COUNT_MB_C_prev5',\n",
       " 'COUNT_MB_D_prev5',\n",
       " 'COUNT_POS_C_prev5',\n",
       " 'COUNT_POS_D_prev5',\n",
       " 'CNR_prev5',\n",
       " 'BAL_prev5',\n",
       " 'EOP_prev5',\n",
       " 'CR_AMB_Prev5',\n",
       " 'C_prev6',\n",
       " 'D_prev6',\n",
       " 'ATM_C_prev6',\n",
       " 'ATM_D_prev6',\n",
       " 'BRANCH_C_prev6',\n",
       " 'BRANCH_D_prev6',\n",
       " 'IB_C_prev6',\n",
       " 'IB_D_prev6',\n",
       " 'MB_C_prev6',\n",
       " 'MB_D_prev6',\n",
       " 'POS_C_prev6',\n",
       " 'POS_D_prev6',\n",
       " 'count_C_prev6',\n",
       " 'count_D_prev6',\n",
       " 'COUNT_ATM_C_prev6',\n",
       " 'COUNT_ATM_D_prev6',\n",
       " 'COUNT_BRANCH_C_prev6',\n",
       " 'COUNT_BRANCH_D_prev6',\n",
       " 'COUNT_IB_C_prev6',\n",
       " 'COUNT_IB_D_prev6',\n",
       " 'COUNT_MB_C_prev6',\n",
       " 'COUNT_MB_D_prev6',\n",
       " 'COUNT_POS_C_prev6',\n",
       " 'COUNT_POS_D_prev6',\n",
       " 'CNR_prev6',\n",
       " 'BAL_prev6',\n",
       " 'EOP_prev6',\n",
       " 'CR_AMB_Prev6',\n",
       " 'EFT_SELF_TRANSFER_PrevQ1',\n",
       " 'FD_AMOUNT_BOOK_PrevQ1',\n",
       " 'FD_AMOUNT_BOOK_PrevQ2',\n",
       " 'RD_AMOUNT_BOOK_PrevQ1',\n",
       " 'RD_AMOUNT_BOOK_PrevQ2',\n",
       " 'Total_Invest_in_MF_PrevQ1',\n",
       " 'Total_Invest_in_MF_PrevQ2',\n",
       " 'Dmat_Investing_PrevQ1',\n",
       " 'Dmat_Investing_PrevQ2',\n",
       " 'Charges_PrevQ1',\n",
       " 'CASH_WD_AMT_Last6',\n",
       " 'CASH_WD_CNT_Last6',\n",
       " 'Billpay_Active_PrevQ1_N',\n",
       " 'Billpay_Reg_ason_Prev1_N',\n",
       " 'Charges_cnt_PrevQ1_N',\n",
       " 'FRX_PrevQ1_N',\n",
       " 'brn_code',\n",
       " 'RBI_Class_Audit',\n",
       " 'age',\n",
       " 'gender_bin',\n",
       " 'Recency_of_CR_TXN',\n",
       " 'Recency_of_DR_TXN',\n",
       " 'Recency_of_BRANCH_TXN',\n",
       " 'Recency_of_Activity',\n",
       " 'I_AQB_PrevQ1',\n",
       " 'I_AQB_PrevQ2',\n",
       " 'I_CR_AQB_PrevQ1',\n",
       " 'I_CR_AQB_PrevQ2',\n",
       " 'I_CNR_PrevQ1',\n",
       " 'I_CNR_PrevQ2',\n",
       " 'I_NRV_PrevQ1',\n",
       " 'I_NRV_PrevQ2',\n",
       " 'CR_AMB_Drop_Build_1',\n",
       " 'CR_AMB_Drop_Build_2',\n",
       " 'CR_AMB_Drop_Build_3',\n",
       " 'CR_AMB_Drop_Build_4',\n",
       " 'CR_AMB_Drop_Build_5']"
      ]
     },
     "execution_count": 48,
     "metadata": {},
     "output_type": "execute_result"
    }
   ],
   "source": [
    "new_columns"
   ]
  },
  {
   "cell_type": "code",
   "execution_count": null,
   "metadata": {
    "collapsed": true
   },
   "outputs": [],
   "source": []
  }
 ],
 "metadata": {
  "kernelspec": {
   "display_name": "Python 3",
   "language": "python",
   "name": "python3"
  },
  "language_info": {
   "codemirror_mode": {
    "name": "ipython",
    "version": 3
   },
   "file_extension": ".py",
   "mimetype": "text/x-python",
   "name": "python",
   "nbconvert_exporter": "python",
   "pygments_lexer": "ipython3",
   "version": "3.6.1"
  }
 },
 "nbformat": 4,
 "nbformat_minor": 2
}
